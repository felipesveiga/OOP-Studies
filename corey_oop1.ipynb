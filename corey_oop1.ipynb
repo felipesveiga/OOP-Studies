{
 "cells": [
  {
   "cell_type": "markdown",
   "id": "35648364-e29e-4e56-967c-3bff47a40eef",
   "metadata": {},
   "source": [
    "<a href = 'https://www.youtube.com/watch?v=ZDa-Z5JzLYM&list=PL-osiE80TeTsqhIuOqKhwlXsIBIdSeYtc' style = 'font-size:40px'> <strong>Aula 1</strong> </a>"
   ]
  },
  {
   "cell_type": "markdown",
   "id": "871fc1f8-5a42-435e-bcdb-214911351495",
   "metadata": {},
   "source": [
    "<p style = 'font-size:40px'> <strong> Oriented-Object Programming (I) </strong> </p>"
   ]
  },
  {
   "cell_type": "markdown",
   "id": "354f3ee5-7d8b-4482-9a10-6f1c1c0eebcb",
   "metadata": {},
   "source": [
    "<p style = 'font-size:30px'> <strong>O que é um objeto?</strong> </p>\n",
    "<p style = 'font-size:20px'> Um objeto consiste em um agrupamento de variáveis e funções com um determinado fim dentro de um código.  </p> \n",
    "<p style = 'font-size:20px'> No Python, esses objetos são denominados como <em> classes</em>, cujas variáveis e funções são chamadas de <em> atributos</em> e <em> métodos </em> respectivamente."
   ]
  },
  {
   "cell_type": "code",
   "execution_count": 4,
   "id": "4729143e-a2fc-41a0-9b6d-c728ed161353",
   "metadata": {},
   "outputs": [],
   "source": [
    "# Podemos criar uma classe da seguinte forma:\n",
    "\n",
    "class Classe:\n",
    "    # Para definirmos os atributos desta classe, devemos utilizar o método especial __init__\n",
    "    # Esse será responsável por definir os atributos. Pense neles como as características de nosso objeto\n",
    "    # Para conseguirmos designar os atributos à uma instância de classe, temos que colocar self como primeiro \n",
    "                                                                                        # argumento de __init__\n",
    "    def __init__(self, valor1, valor2):\n",
    "        self.atributo1 = valor1\n",
    "        self.atributo2 = valor2\n",
    "        \n",
    "    # Podemos também definir operações padronizadas para serem feitas em nossa classe. Para isso, devemos\n",
    "    # criar os métodos (funções para classe).\n",
    "    def metodo(self):\n",
    "        return self.atributo1 + self.atributo2"
   ]
  },
  {
   "cell_type": "markdown",
   "id": "e8d768e2-2fbb-459d-8137-4ebcf52f6bd9",
   "metadata": {},
   "source": [
    "* <p style = 'font-size:20px'> A criação de métodos é bastante importante para facilitarmos a realização de determinadas operações com os atributos de classe. Ademais, isso tornará o código da classe mais limpo e inteligível para o leitor. </p>"
   ]
  },
  {
   "cell_type": "code",
   "execution_count": 3,
   "id": "c0d7f89a-b2ed-4ff7-b6e8-928f958d36d0",
   "metadata": {},
   "outputs": [
    {
     "data": {
      "text/plain": [
       "6"
      ]
     },
     "execution_count": 3,
     "metadata": {},
     "output_type": "execute_result"
    }
   ],
   "source": [
    "# Por exemplo, não seria muito elegante obrigarmos o usuário de nossa classe a obter a soma de valor1 e valor2\n",
    "# da seguinte maneira\n",
    "instancia = Classe(1,5)\n",
    "\n",
    "# Note que essa operação de somas está sujeita a inúmeros tipos de erro: o usuário pode se esquecer dos nomes dos\n",
    "# atributos da classe, ele pode errar o operador matemático, etc.\n",
    "instancia.atributo1 + instancia.atributo2"
   ]
  },
  {
   "cell_type": "code",
   "execution_count": 5,
   "id": "181276f7-a07e-4308-8598-b3c6d135733b",
   "metadata": {},
   "outputs": [
    {
     "data": {
      "text/plain": [
       "6"
      ]
     },
     "execution_count": 5,
     "metadata": {},
     "output_type": "execute_result"
    }
   ],
   "source": [
    "# Ao invés disso, os métodos são capazes de automatizar operações com os atributos de classe de uma maneira\n",
    "# mais organizada e com menores chances de erro.\n",
    "instancia = Classe(1,5)\n",
    "\n",
    "# Veja que eu sequer precisei informar quais argumentos serão utlizados para a soma!\n",
    "instancia.metodo()"
   ]
  },
  {
   "cell_type": "markdown",
   "id": "3cc8c9e0-f903-4a74-8f6b-7459dac3584a",
   "metadata": {},
   "source": [
    "* <p style = 'font-size:20px'> Perceba: A instância de classe sempre precederá o nome do método utilizado. </p>"
   ]
  },
  {
   "cell_type": "code",
   "execution_count": 6,
   "id": "e0a647d9-eb08-47ad-a7d0-273ba7430334",
   "metadata": {},
   "outputs": [
    {
     "data": {
      "text/plain": [
       "6"
      ]
     },
     "execution_count": 6,
     "metadata": {},
     "output_type": "execute_result"
    }
   ],
   "source": [
    "# O que acontecerá por trás será uma transformação da chamada do método.\n",
    "# O que aparenta ser:\n",
    "instancia.metodo()\n",
    "# Está sendo rodado como:\n",
    "Classe.metodo(instancia)"
   ]
  },
  {
   "cell_type": "code",
   "execution_count": 7,
   "id": "96c94a71-3fe9-418b-8297-fcfbfd33e8cf",
   "metadata": {},
   "outputs": [
    {
     "data": {
      "text/html": [
       "<div>\n",
       "<style scoped>\n",
       "    .dataframe tbody tr th:only-of-type {\n",
       "        vertical-align: middle;\n",
       "    }\n",
       "\n",
       "    .dataframe tbody tr th {\n",
       "        vertical-align: top;\n",
       "    }\n",
       "\n",
       "    .dataframe thead th {\n",
       "        text-align: right;\n",
       "    }\n",
       "</style>\n",
       "<table border=\"1\" class=\"dataframe\">\n",
       "  <thead>\n",
       "    <tr style=\"text-align: right;\">\n",
       "      <th></th>\n",
       "      <th>A</th>\n",
       "      <th>B</th>\n",
       "    </tr>\n",
       "  </thead>\n",
       "  <tbody>\n",
       "    <tr>\n",
       "      <th>0</th>\n",
       "      <td>1</td>\n",
       "      <td>10</td>\n",
       "    </tr>\n",
       "    <tr>\n",
       "      <th>1</th>\n",
       "      <td>2</td>\n",
       "      <td>19</td>\n",
       "    </tr>\n",
       "    <tr>\n",
       "      <th>2</th>\n",
       "      <td>3</td>\n",
       "      <td>42</td>\n",
       "    </tr>\n",
       "  </tbody>\n",
       "</table>\n",
       "</div>"
      ],
      "text/plain": [
       "   A   B\n",
       "0  1  10\n",
       "1  2  19\n",
       "2  3  42"
      ]
     },
     "execution_count": 7,
     "metadata": {},
     "output_type": "execute_result"
    }
   ],
   "source": [
    "# Pense: isso que eu acabei de mostrar é o mesmo que ocorre quando utlizamos métodos de bibliotecas como o pandas.\n",
    "import pandas \n",
    "# O nome da classe (biblioteca) é o primeiro a ser chamado, seguido pelo nome do método.\n",
    "pandas.DataFrame({'A':[1,2,3], 'B':[10,19,42]})"
   ]
  }
 ],
 "metadata": {
  "kernelspec": {
   "display_name": "Python 3",
   "language": "python",
   "name": "python3"
  },
  "language_info": {
   "codemirror_mode": {
    "name": "ipython",
    "version": 3
   },
   "file_extension": ".py",
   "mimetype": "text/x-python",
   "name": "python",
   "nbconvert_exporter": "python",
   "pygments_lexer": "ipython3",
   "version": "3.8.8"
  }
 },
 "nbformat": 4,
 "nbformat_minor": 5
}
