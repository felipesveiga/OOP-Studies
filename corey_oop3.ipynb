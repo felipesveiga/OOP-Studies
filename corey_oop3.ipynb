{
 "cells": [
  {
   "cell_type": "markdown",
   "id": "b2508ad6-4bc6-4106-9ca6-a6d47661e283",
   "metadata": {},
   "source": [
    "<a href = 'https://www.youtube.com/watch?v=rq8cL2XMM5M&list=PL-osiE80TeTsqhIuOqKhwlXsIBIdSeYtc&index=3' style = 'font-size:40px'> <strong>Aula 3</strong></a>"
   ]
  },
  {
   "cell_type": "markdown",
   "id": "ab481485-f864-4762-8d43-5411b126e570",
   "metadata": {},
   "source": [
    "<p style = 'font-size:30px'><strong>@classmethod</strong></p>"
   ]
  },
  {
   "cell_type": "markdown",
   "id": "52f402a8-15b4-44ec-b7af-c882005a4527",
   "metadata": {},
   "source": [
    "* <p style = 'font-size:20px'> Os métodos de classe são aqueles que estão ligados à classe a qual pertencem.</p>\n",
    "* <p style = 'font-size:20px'> Esses podem possuir diversas utilidades em nosso código.</p>"
   ]
  },
  {
   "cell_type": "code",
   "execution_count": 5,
   "id": "b7a4ce1c-08d2-480b-9239-9bc012b09c67",
   "metadata": {},
   "outputs": [
    {
     "name": "stdout",
     "output_type": "stream",
     "text": [
      "1.07\n",
      "1.1\n"
     ]
    }
   ],
   "source": [
    "# Modificação de variáveis de classe\n",
    "\n",
    "class Economia:\n",
    "    inflacao = 1.07\n",
    "    \n",
    "    @classmethod\n",
    "    def mudar_inflacao(cls, nova_inflacao):\n",
    "        cls.inflacao = nova_inflacao\n",
    "        \n",
    "brasil = Economia()\n",
    "\n",
    "print(brasil.inflacao)\n",
    "Economia.mudar_inflacao(1.10)\n",
    "print(brasil.inflacao)\n",
    "\n",
    "# Isso tomaria lugar daquele modo mais rústico de se alterar uma variável de classe, como:\n",
    "Economia.inflacao = 1.1"
   ]
  },
  {
   "cell_type": "code",
   "execution_count": 6,
   "id": "25b20d8d-2b31-4bad-84f4-ac961236a9d6",
   "metadata": {},
   "outputs": [
    {
     "data": {
      "text/plain": [
       "{'marca': 'Apple', 'ram': '12', 'armazenamento': '128'}"
      ]
     },
     "execution_count": 6,
     "metadata": {},
     "output_type": "execute_result"
    }
   ],
   "source": [
    "# Podemos também facilitar a criação de novas instâncias de classe\n",
    "\n",
    "class Celular:\n",
    "    \n",
    "    def __init__(self, marca, ram, armazenamento):\n",
    "        self.marca = marca\n",
    "        self.ram = ram\n",
    "        self.armazenamento = armazenamento\n",
    "    \n",
    "    @classmethod\n",
    "    # No caso da criação de instâncias, o início do nome do método sempre deve conter a palavra \"from\".\n",
    "    def fromstring(cls, string):\n",
    "        marca, ram, armazenamento = string.split('-')\n",
    "        return cls(marca, ram, armazenamento)\n",
    "    \n",
    "# Isso facilita a interação de leigos em programação com a classe.\n",
    "iphone = Celular.fromstring('Apple-12-128')\n",
    "print(iphone.__dict__)"
   ]
  },
  {
   "cell_type": "markdown",
   "id": "592e1daa-dfbc-44cd-ac3c-17fd4ccb7216",
   "metadata": {},
   "source": [
    "<p style = 'font-size:15px'><u>Obs</u>: Não confundir split() com strip().</p>"
   ]
  },
  {
   "cell_type": "markdown",
   "id": "6333350e-f3a2-4a52-94f8-2af4c2ab144e",
   "metadata": {},
   "source": [
    "<p style = 'font-size:30px'> <strong>@staticmethod</strong> </p>"
   ]
  },
  {
   "cell_type": "markdown",
   "id": "a8754a0b-809d-4ef1-a2b3-14b78cfc1b52",
   "metadata": {},
   "source": [
    "* <p style = 'font-size:20px'> Os métodos estáticos não interagem com a classe ou com qualquer instância. Nesse sentido, eles não recebem <em>self</em> ou <em>cls</em> como seus argumentos. </p>\n",
    "* <p style = 'font-size:20px'>  Devemos entendê-los como responsáveis por cumprir um papel específico dentro da lógica maior da classe. </p>"
   ]
  },
  {
   "cell_type": "code",
   "execution_count": 31,
   "id": "c21e1551-2f4a-4072-94fe-47d03194dbd3",
   "metadata": {},
   "outputs": [
    {
     "data": {
      "text/plain": [
       "{'cidade': 'New York', 'temperatura': 31.666666666666668}"
      ]
     },
     "execution_count": 31,
     "metadata": {},
     "output_type": "execute_result"
    }
   ],
   "source": [
    "class Clima:\n",
    "    # Digamos que um americano venha utilizar nossa classe e coloque a temperatura de sua cidade em fahrenheit\n",
    "    # Nesse contexto, podemos criar uma função que siplesmente converta a temperatura dada para celsius\n",
    "    \n",
    "    @staticmethod\n",
    "    def fahrenheit_celsius(fahrenheit):\n",
    "        return (fahrenheit - 32)*5/9\n",
    "    \n",
    "    def __init__(self, cidade, temperatura):\n",
    "        self.cidade = cidade\n",
    "        self.temperatura = temperatura\n",
    "    \n",
    "    # No método de classe, invocaremos a função estática para converter fahrenheit para celsius!\n",
    "    @classmethod\n",
    "    def fromstring(cls, string):\n",
    "        cidade, temperatura = string.split('-')\n",
    "        temperatura = float(temperatura)\n",
    "        return cls(cidade, Clima.fahrenheit_celsius(temperatura))\n",
    "\n",
    "\n",
    "new_york = Clima.fromstring('New York-89')\n",
    "new_york.__dict__"
   ]
  }
 ],
 "metadata": {
  "kernelspec": {
   "display_name": "Python 3",
   "language": "python",
   "name": "python3"
  },
  "language_info": {
   "codemirror_mode": {
    "name": "ipython",
    "version": 3
   },
   "file_extension": ".py",
   "mimetype": "text/x-python",
   "name": "python",
   "nbconvert_exporter": "python",
   "pygments_lexer": "ipython3",
   "version": "3.8.8"
  }
 },
 "nbformat": 4,
 "nbformat_minor": 5
}
