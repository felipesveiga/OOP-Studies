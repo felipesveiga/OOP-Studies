{
 "cells": [
  {
   "cell_type": "markdown",
   "id": "7133f057-2f37-416e-8da9-903d9f68d5ff",
   "metadata": {},
   "source": [
    "<a style = 'font-size:40px' href = 'https://www.youtube.com/watch?v=3ohzBxoFHAY&list=PL-osiE80TeTsqhIuOqKhwlXsIBIdSeYtc&index=5'> <strong>Aula 5</strong></a>"
   ]
  },
  {
   "cell_type": "markdown",
   "id": "3e312cd9-bec2-4303-9b37-1b61a5007250",
   "metadata": {},
   "source": [
    "<p style = 'font-size:40px'> <strong> Special (Magic/Dunder) Methods</strong> </p>"
   ]
  },
  {
   "cell_type": "markdown",
   "id": "ba7db3e2-b2d0-455f-a637-5f1b71a5987c",
   "metadata": {},
   "source": [
    "<p style = 'font-size:30px'> <strong>Dunders</strong></p>"
   ]
  },
  {
   "cell_type": "markdown",
   "id": "15412de3-560e-445a-9c7b-c17177ad2fb0",
   "metadata": {},
   "source": [
    "* <p style = 'font-size:20px'> Os dunders são funções especiais para OOP. Elas sempre possuem dois pares de underscores (_) em seus nomes. </p>\n",
    "* <p style = 'font-size:20px'> Nós já tivemos a oportunidade de lidar com um desses dunders, o __init__.</p>"
   ]
  },
  {
   "cell_type": "code",
   "execution_count": 3,
   "id": "8fca78e2-afeb-43e5-955c-1d370f8d5558",
   "metadata": {},
   "outputs": [
    {
     "name": "stdout",
     "output_type": "stream",
     "text": [
      "<__main__.Empregado object at 0x7fd56e4a66a0>\n"
     ]
    }
   ],
   "source": [
    "# Vamos aprender sobre o __repr__ e o __str__\n",
    "# Eles servem para a customização do output do print de alguma instância de classe\n",
    "class Empregado:\n",
    "    \n",
    "    aumento = 1.05\n",
    "    @staticmethod\n",
    "    def _break_name(nome):\n",
    "        primeiro_nome, sobrenome = nome.split(' ')\n",
    "        return str.casefold(primeiro_nome), str.casefold(sobrenome)\n",
    "    \n",
    "    @staticmethod\n",
    "    def _create_email(nome):\n",
    "        primeiro_nome, sobrenome = Empregado._break_name(nome)\n",
    "        return f'{primeiro_nome}.{sobrenome}@company.com'\n",
    "    \n",
    "    def __init__(self, nome, salario):\n",
    "        self.nome = nome\n",
    "        self.email = Empregado._create_email(nome)\n",
    "        self.salario = float(salario)\n",
    "\n",
    "# Para deixar as coisas mais claras, vamos criar uma instância de \"Empregado\" chamada \"Felipe\"\n",
    "Felipe = Empregado('Felipe Veiga', 40000)\n",
    "\n",
    "# Veja que o output do print é difícil de ser compreendido por um usuário externo.\n",
    "print(Felipe)"
   ]
  },
  {
   "cell_type": "markdown",
   "id": "8a31b944-bbdb-4f2d-a773-6b133a671b5a",
   "metadata": {},
   "source": [
    "<p style = 'font-size:30px'> <em>__repr__ e __str__</em> </p>"
   ]
  },
  {
   "cell_type": "markdown",
   "id": "86b4e717-0c01-4b9d-b924-c1145e76470c",
   "metadata": {},
   "source": [
    "* <p style = 'font-size:20px'> O __repr__ e o __str__ servem para tornar esse output mais compreensível para o usuário da classe. </p>"
   ]
  },
  {
   "cell_type": "code",
   "execution_count": 6,
   "id": "27f3c08a-1076-48ee-82f8-960ffeee8f6b",
   "metadata": {},
   "outputs": [
    {
     "name": "stdout",
     "output_type": "stream",
     "text": [
      "Felipe Veiga - felipe.veiga@company.com\n"
     ]
    }
   ],
   "source": [
    "# Vamos refazer o procedimento, mas com as classe\n",
    "class Empregado:\n",
    "    \n",
    "    aumento = 1.05\n",
    "    @staticmethod\n",
    "    def _break_name(nome):\n",
    "        primeiro_nome, sobrenome = nome.split(' ')\n",
    "        return str.casefold(primeiro_nome), str.casefold(sobrenome)\n",
    "    \n",
    "    @staticmethod\n",
    "    def _create_email(nome):\n",
    "        primeiro_nome, sobrenome = Empregado._break_name(nome)\n",
    "        return f'{primeiro_nome}.{sobrenome}@company.com'\n",
    "    \n",
    "    def __init__(self, nome, salario):\n",
    "        self.nome = nome\n",
    "        self.email = Empregado._create_email(nome)\n",
    "        self.salario = float(salario)\n",
    "    \n",
    "    # Criando um dunder repr.   \n",
    "    def __repr__(self):\n",
    "        return f'Employee({self.nome}, {self.email}, {self.salario})'\n",
    "    \n",
    "    # Criando um dunder str.\n",
    "    def __str__(self):\n",
    "        return f'{self.nome} - {self.email}'\n",
    "\n",
    "# Observe como o output está muito mais compreensível.\n",
    "# Note: o método __str__ vai se sobrepor a __repr__ caso ambos existam!\n",
    "Felipe = Empregado('Felipe Veiga', 40000)\n",
    "print(Felipe)"
   ]
  },
  {
   "cell_type": "markdown",
   "id": "fe84f932-faec-4e2f-b64d-317a62f08ae2",
   "metadata": {},
   "source": [
    "<p style = 'font-size:30px'> <em>__add__</em> </p>"
   ]
  },
  {
   "cell_type": "markdown",
   "id": "437998f0-a590-4186-a7af-ea1c59280e75",
   "metadata": {},
   "source": [
    "* <p style = 'font-size:20px'> Esse método ditará o funcionamento do símbolo '+' entre instâncias de uma classe.</p>\n",
    "* <p style = 'font-size:20px'> __add__, por exemplo, é utilizado para diferenciar a soma entre números (1+1=2) daquela entre strings ('a'+'b' = 'ab') no Python.</p>"
   ]
  },
  {
   "cell_type": "code",
   "execution_count": 7,
   "id": "4d559da5-e818-4367-8c8d-65fe6d700cd3",
   "metadata": {
    "tags": []
   },
   "outputs": [
    {
     "name": "stdout",
     "output_type": "stream",
     "text": [
      "30000.0\n"
     ]
    }
   ],
   "source": [
    "# Existe também o método __add__ que dita o funcionamento do símbolo '+' nos prints\n",
    "class Empregado:\n",
    "    \n",
    "    aumento = 1.05\n",
    "    @staticmethod\n",
    "    def _break_name(nome):\n",
    "        primeiro_nome, sobrenome = nome.split(' ')\n",
    "        return str.casefold(primeiro_nome), str.casefold(sobrenome)\n",
    "    \n",
    "    @staticmethod\n",
    "    def _create_email(nome):\n",
    "        primeiro_nome, sobrenome = Empregado._break_name(nome)\n",
    "        return f'{primeiro_nome}.{sobrenome}@company.com'\n",
    "    \n",
    "    def __init__(self, nome, salario):\n",
    "        self.nome = nome\n",
    "        self.email = Empregado._create_email(nome)\n",
    "        self.salario = float(salario)\n",
    "        \n",
    "    def __repr__(self):\n",
    "        return f'Employee({self.nome}, {self.email}, {self.salario})'\n",
    "    \n",
    "    def __str__(self):\n",
    "        return f'{self.nome} - {self.email}'\n",
    "    \n",
    "    # Vamos fazer com que somar duas instâncias da classe \"Empregado\" retorne a soma de seus salários.\n",
    "    def __add__(self, other):\n",
    "        return self.salario + other.salario\n",
    "    \n",
    "Eduardo = Empregado('Eduardo Veiga', 10000)\n",
    "Felipe = Empregado('Felipe Veiga', 20000)\n",
    "\n",
    "print(Eduardo + Felipe)"
   ]
  },
  {
   "cell_type": "markdown",
   "id": "21f572ec-c253-401d-9fee-a870de5ac2a2",
   "metadata": {},
   "source": [
    "<p style = 'font-size:30px'> <em>__len__</em> </p>"
   ]
  },
  {
   "cell_type": "markdown",
   "id": "e55e39c9-97b7-4904-8668-13fcdab9f923",
   "metadata": {},
   "source": [
    "* <p style = 'font-size:20px'> Esse dunder define o funcionamento do método len().</p>"
   ]
  },
  {
   "cell_type": "code",
   "execution_count": 13,
   "id": "2f93565c-3da7-4013-8b4c-1ad8be04e96e",
   "metadata": {},
   "outputs": [
    {
     "name": "stdout",
     "output_type": "stream",
     "text": [
      "12\n"
     ]
    }
   ],
   "source": [
    "# Vamos programar esse dunder de forma que ele retorne o número de caracteres do nome de cada empregado\n",
    "\n",
    "class Empregado:\n",
    "    \n",
    "    aumento = 1.05\n",
    "    @staticmethod\n",
    "    def _break_name(nome):\n",
    "        primeiro_nome, sobrenome = nome.split(' ')\n",
    "        return str.casefold(primeiro_nome), str.casefold(sobrenome)\n",
    "    \n",
    "    @staticmethod\n",
    "    def _create_email(nome):\n",
    "        primeiro_nome, sobrenome = Empregado._break_name(nome)\n",
    "        return f'{primeiro_nome}.{sobrenome}@company.com'\n",
    "    \n",
    "    def __init__(self, nome, salario):\n",
    "        self.nome = nome\n",
    "        self.email = Empregado._create_email(nome)\n",
    "        self.salario = float(salario)\n",
    "        \n",
    "    def __repr__(self):\n",
    "        return f'Employee({self.nome}, {self.email}, {self.salario})'\n",
    "    \n",
    "    def __str__(self):\n",
    "        return f'{self.nome} - {self.email}'\n",
    "    \n",
    "    def __add__(self, other):\n",
    "        return self.salario + other.salario\n",
    "    \n",
    "    # Definindo o funcionamento de len()\n",
    "    def __len__(self):\n",
    "        return len(self.nome)\n",
    "    \n",
    "Felipe = Empregado('Felipe Veiga', 50000)\n",
    "# O nome 'Felipe Veiga' possui 12 caracteres (incluindo espaço).\n",
    "print(len(Felipe))\n"
   ]
  },
  {
   "cell_type": "markdown",
   "id": "4adcf608-175a-4a8c-a976-5c62b98ea20a",
   "metadata": {},
   "source": [
    "<a style = 'font-size:50px' href = 'https://www.youtube.com/watch?v=5cvM-crlDvg'> Aula de repr e str</a>"
   ]
  },
  {
   "cell_type": "markdown",
   "id": "ba79dbdf-f2fb-4457-8750-846211eba1fd",
   "metadata": {},
   "source": [
    "* <p style = 'font-size:20px'> __str__ e __repr__ são motivo de bastante confusão entre os programadores Python, principalmente pelo fato de seus outputs parecerem ser idênticos em muitas ocasiões.</p>\n",
    "* <p style = 'font-size:20px'> No entanto, é importante notar que o que os distingue é que __str__ retorna o objeto passado como argumento de uma maneira legível para o leitor. Por outro lado, __repr__ tem a função de evitar ambiguidades de valor entre objetos Python.</p>"
   ]
  },
  {
   "cell_type": "code",
   "execution_count": 21,
   "id": "6d3df271-f66a-4632-a014-59423899f831",
   "metadata": {},
   "outputs": [
    {
     "name": "stdout",
     "output_type": "stream",
     "text": [
      "2001-10-24\n",
      "2001-10-24\n"
     ]
    }
   ],
   "source": [
    "# Vamos tornar isso mais claro\n",
    "import datetime\n",
    "# Vamos criar um objeto datetime e uma string.\n",
    "# De cara, já podemos notar que essas duas variáveis não possuem o mesmo tipo de dado (um é date e o outro é string)\n",
    "a = datetime.date(2001,10,24)\n",
    "b = '2001-10-24'\n",
    "\n",
    "# Porém, vamos printar o str dessas duas variáveis\n",
    "# O output é idêntico!\n",
    "print(str(a))\n",
    "print(str(b))"
   ]
  },
  {
   "cell_type": "code",
   "execution_count": 25,
   "id": "649b9dc8-f52e-4f0a-b946-e2a896e54824",
   "metadata": {},
   "outputs": [
    {
     "name": "stdout",
     "output_type": "stream",
     "text": [
      "datetime.date(2001, 10, 24)\n",
      "'2001-10-24'\n"
     ]
    }
   ],
   "source": [
    "# No entanto, e se quiséssemos, em nosso comando 'print', poder diferenciar essas duas variáveis conforme\n",
    "# o seu tipo de dado?\n",
    "\n",
    "# Nesse caso, devemos utilizar o dunder repr!\n",
    "# Agora é patente: 'a' é um objeto date; 'b' é uma string!\n",
    "print(repr(a))\n",
    "print(repr(b))"
   ]
  },
  {
   "cell_type": "code",
   "execution_count": 33,
   "id": "25c475e1-5bc1-4ac3-8fdd-5cf1c8e13569",
   "metadata": {},
   "outputs": [
    {
     "name": "stdout",
     "output_type": "stream",
     "text": [
      "68 days, 0:00:00\n",
      "2001-10-24\n",
      "2001-12-31\n",
      "2001-10-24\n"
     ]
    }
   ],
   "source": [
    "# Vamos para um caso mais prático: poderíamos querer saber quantos dias existem entre essas duas datas.\n",
    "data1 = datetime.date(2001,10,24)\n",
    "data2 = datetime.date(2001,12,31)\n",
    "data3 = '2001-10-24'\n",
    "\n",
    "# Nesse contexto, podemos diferenciar o que é um date e o que é uma string para calcularmos o delta tempo.\n",
    "# Esta operação fará sentido para o Python.\n",
    "print(data2 - data1)\n",
    "\n",
    "# No entanto, digamos que o usuário não tenha acesso às definições das variáveis. Para descobrir os seus\n",
    "# valores, ele, ingenuamente, poderia fazer o seguinte comando:\n",
    "\n",
    "print(data1)\n",
    "print(data2)\n",
    "print(data3)"
   ]
  },
  {
   "cell_type": "code",
   "execution_count": 34,
   "id": "ced402aa-ea0d-4cfa-8083-c036447e512c",
   "metadata": {},
   "outputs": [
    {
     "ename": "TypeError",
     "evalue": "unsupported operand type(s) for -: 'str' and 'datetime.date'",
     "output_type": "error",
     "traceback": [
      "\u001b[0;31m---------------------------------------------------------------------------\u001b[0m",
      "\u001b[0;31mTypeError\u001b[0m                                 Traceback (most recent call last)",
      "\u001b[0;32m<ipython-input-34-a48c1e71fb86>\u001b[0m in \u001b[0;36m<module>\u001b[0;34m\u001b[0m\n\u001b[1;32m      3\u001b[0m \u001b[0;31m# de uma string...\u001b[0m\u001b[0;34m\u001b[0m\u001b[0;34m\u001b[0m\u001b[0;34m\u001b[0m\u001b[0m\n\u001b[1;32m      4\u001b[0m \u001b[0;34m\u001b[0m\u001b[0m\n\u001b[0;32m----> 5\u001b[0;31m \u001b[0mprint\u001b[0m\u001b[0;34m(\u001b[0m\u001b[0mdata3\u001b[0m \u001b[0;34m-\u001b[0m \u001b[0mdata2\u001b[0m\u001b[0;34m)\u001b[0m\u001b[0;34m\u001b[0m\u001b[0;34m\u001b[0m\u001b[0m\n\u001b[0m",
      "\u001b[0;31mTypeError\u001b[0m: unsupported operand type(s) for -: 'str' and 'datetime.date'"
     ]
    }
   ],
   "source": [
    "# Como é possível ver, o output para as três datas possui o mesmo formato!\n",
    "# Dessa forma, o usuário poderia querer descobrir o delta tempo com 'data3', o que não seria possível, por se tratar\n",
    "# de uma string...\n",
    "\n",
    "print(data3 - data2)"
   ]
  },
  {
   "cell_type": "code",
   "execution_count": 35,
   "id": "203c981c-bc4c-45f2-8a57-8ab22a4b82df",
   "metadata": {},
   "outputs": [
    {
     "name": "stdout",
     "output_type": "stream",
     "text": [
      "datetime.date(2001, 10, 24)\n",
      "datetime.date(2001, 12, 31)\n",
      "'2001-10-24'\n"
     ]
    }
   ],
   "source": [
    "# Uma maneira de diferenciarmos o que será ou não útil para a nossa operação é printar o 'repr' das variáveis.\n",
    "# Agora sabemos, 'data3' NÃO é um date!\n",
    "print(repr(data1))\n",
    "print(repr(data2))\n",
    "print(repr(data3))"
   ]
  },
  {
   "cell_type": "markdown",
   "id": "96defb7f-b95d-4d72-b6ba-d4453b3a4c86",
   "metadata": {},
   "source": [
    "* <p style = 'font-size:20px'> Como dissemos na parte de OOP, na construção de uma classe, o método __str__ sempre irá se sobrepor a __repr__. Isso serve para evitar que uma pessoa que não programe se confunda com os detalhes mostrados pelo output de __repr__.</p>\n",
    "\n",
    "* <p style = 'font-size:20px'> Como os americanos dizem, seria uma maneira mais <em>user-friendly</em> de se mostrar o valor de uma variável</p> "
   ]
  }
 ],
 "metadata": {
  "kernelspec": {
   "display_name": "Python 3",
   "language": "python",
   "name": "python3"
  },
  "language_info": {
   "codemirror_mode": {
    "name": "ipython",
    "version": 3
   },
   "file_extension": ".py",
   "mimetype": "text/x-python",
   "name": "python",
   "nbconvert_exporter": "python",
   "pygments_lexer": "ipython3",
   "version": "3.8.8"
  }
 },
 "nbformat": 4,
 "nbformat_minor": 5
}
