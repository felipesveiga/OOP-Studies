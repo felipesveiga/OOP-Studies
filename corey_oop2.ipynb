{
 "cells": [
  {
   "cell_type": "markdown",
   "id": "773bd5dc-8386-4c0b-aba0-ea828dc68c41",
   "metadata": {},
   "source": [
    "<a href = 'https://www.youtube.com/watch?v=BJ-VvGyQxho&list=PL-osiE80TeTsqhIuOqKhwlXsIBIdSeYtc&index=2' style = 'font-size:40px'> <strong>Aula 2</strong> </a>"
   ]
  },
  {
   "cell_type": "markdown",
   "id": "db2acb04-5ef2-4c3c-b2e6-4bcb3a58ce04",
   "metadata": {},
   "source": [
    "<p style = 'font-size:40px'> <strong> Oriented-Object Programming (II) </strong> </p>"
   ]
  },
  {
   "cell_type": "markdown",
   "id": "1e63ce16-ddfd-48e2-918c-df54f708c668",
   "metadata": {},
   "source": [
    "<p style = 'font-size:30px'> <strong>Class Variables</strong> </p>"
   ]
  },
  {
   "cell_type": "markdown",
   "id": "68865972-840e-4979-b09d-e20f5749dede",
   "metadata": {},
   "source": [
    "* <p style = 'font-size:20px'> Além das variáveis tradicionais que abordamos na última aula, é possível criar também variáveis que serão intrínsecas/universais a todas as instâncias da classe, as chamadas variáveis de classe - <em> class variables </em>. </p>"
   ]
  },
  {
   "cell_type": "code",
   "execution_count": 3,
   "id": "812c9f28-8855-4398-b5cc-7a74752d84b3",
   "metadata": {},
   "outputs": [
    {
     "data": {
      "text/plain": [
       "1081.6000000000001"
      ]
     },
     "execution_count": 3,
     "metadata": {},
     "output_type": "execute_result"
    }
   ],
   "source": [
    "# Elas são bastante úteis no caso de operações padronizadas com base em um valor fixo.\n",
    "# Digamos que temos um investimento cujo rendimento anual é de 4%.\n",
    "# Poderíamos criar uma classe para esse investimento, tendo como variável global a sua taxa de juros fixa.\n",
    "\n",
    "class Investimento:\n",
    "    juros = 1.04\n",
    "    def __init__(self, valor_inicial):\n",
    "        self.valor_inicial = valor_inicial\n",
    "        \n",
    "    def novo_valor(self,t):\n",
    "        # Como a variável pertence à classe como um todo, e não a uma instância específica, podemos chamá-la\n",
    "        # tendo o seu nome precedido com o nome da classe.\n",
    "        return self.valor_inicial * (Investimento.juros ** t)\n",
    "    \n",
    "    \n",
    "# Vamos saber o quanto teremos em dois anos com uma aplicação de R$ 1000,00:\n",
    "mil = Investimento(1000)\n",
    "mil.novo_valor(2)"
   ]
  },
  {
   "cell_type": "markdown",
   "id": "45a15cd7-9cad-4657-99d9-8c06accec056",
   "metadata": {},
   "source": [
    "* <p style = 'font-size:20px'> Por outro lado, podemos nos referir à variável de classe como <em> self.nome_variavel_de_classe. </em> </p>"
   ]
  },
  {
   "cell_type": "code",
   "execution_count": 7,
   "id": "1821843b-4e1f-42f0-b9e2-9dfb4510b23d",
   "metadata": {},
   "outputs": [],
   "source": [
    "# Retornando à classe Investimento, vamos alterar a forma como nos referimos a juros\n",
    "class Investimento:\n",
    "    juros = 1.04\n",
    "    def __init__(self, valor_inicial):\n",
    "        self.valor_inicial = valor_inicial\n",
    "        \n",
    "    def novo_valor(self,t):\n",
    "        # Note que agora, 'juros' é referido como self.juros\n",
    "        return self.valor_inicial * (self.juros ** t)"
   ]
  },
  {
   "cell_type": "markdown",
   "id": "54ca9fe4-fe82-484d-b448-915a835e1834",
   "metadata": {},
   "source": [
    "* <p style = 'font-size:20px'>  O que ocorre aqui é que, quando aplicamos o método novo_valor, o Python primeiramente confere se 'juros' é um atributo da instância de classe. Como não criamos um self.juros em __init__, o Python verificará se existe uma variável de classe com o nome 'juros'.</p>"
   ]
  },
  {
   "cell_type": "code",
   "execution_count": 8,
   "id": "79eb86be-5c25-474a-bcce-add6cf1e368a",
   "metadata": {},
   "outputs": [
    {
     "name": "stdout",
     "output_type": "stream",
     "text": [
      "{'valor_inicial': 1000, 'juros': 1.01}\n"
     ]
    },
    {
     "data": {
      "text/plain": [
       "1020.1"
      ]
     },
     "execution_count": 8,
     "metadata": {},
     "output_type": "execute_result"
    }
   ],
   "source": [
    "# Essa outra maneira de se referir a uma variável de classe pode ser bastante útil caso ela tenha um valor\n",
    "# excepcional para alguma instância.\n",
    "\n",
    "# Por exemplo, poderíamos ter um investimento cujo rendimento seja de, apenas, 1% ao ano.\n",
    "um = Investimento(1000)\n",
    "\n",
    "# Aqui, estamos criando manualmente um atributo de classe de nome juros.\n",
    "um.juros = 1.01\n",
    "print(um.__dict__)\n",
    "\n",
    "# Ao utilizarmos novo_valor, o Python, respeitando a hierarquia de consulta, escolherá para a operação \n",
    "# o atributo um.juros, e não Investimento.juros\n",
    "um.novo_valor(2)"
   ]
  },
  {
   "cell_type": "markdown",
   "id": "0976510f-72f8-40a6-893a-240ea8ea0b5c",
   "metadata": {},
   "source": [
    "<p style = 'font-size: 50px; color:orange'>Começar pela aula 3! </p>"
   ]
  }
 ],
 "metadata": {
  "kernelspec": {
   "display_name": "Python 3",
   "language": "python",
   "name": "python3"
  },
  "language_info": {
   "codemirror_mode": {
    "name": "ipython",
    "version": 3
   },
   "file_extension": ".py",
   "mimetype": "text/x-python",
   "name": "python",
   "nbconvert_exporter": "python",
   "pygments_lexer": "ipython3",
   "version": "3.8.8"
  }
 },
 "nbformat": 4,
 "nbformat_minor": 5
}
