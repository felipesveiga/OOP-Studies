{
 "cells": [
  {
   "cell_type": "markdown",
   "id": "4a9e24c4-c48c-406c-8252-8b2757d85e5f",
   "metadata": {},
   "source": [
    "<a style = 'font-size:40px' href= 'https://www.youtube.com/watch?v=RSl87lqOXDE&list=PL-osiE80TeTsqhIuOqKhwlXsIBIdSeYtc&index=4'> <strong>Aula 4</strong> </a>"
   ]
  },
  {
   "cell_type": "markdown",
   "id": "cf5c7ec9-dd60-495f-9b85-2dd37be7747b",
   "metadata": {},
   "source": [
    "<p style = 'font-size:40px'> <strong>Inheritance - Creating Subclasses</strong> </p>"
   ]
  },
  {
   "cell_type": "markdown",
   "id": "2fd36104-c355-4b38-9bf7-0fbebbec358c",
   "metadata": {},
   "source": [
    "* <p style = 'font-size:20px'> A hereditariedade em OOP nos permite criar classes que são subcategorias de uma outra .</p>\n",
    "* <p style = 'font-size:20px'> Criar uma subclasse é bastante conveniente pois poderemos reaproveitar os atributos e métodos da classe-mãe caso isso seja necessário.</p>"
   ]
  },
  {
   "cell_type": "markdown",
   "id": "9ca57278-aefa-41b2-852b-b84504eb2a8a",
   "metadata": {},
   "source": [
    "<p style = 'font-size:30px'> <em>variáveis de classe</em></p>"
   ]
  },
  {
   "cell_type": "code",
   "execution_count": 49,
   "id": "d324ebb8-f801-477e-a644-88c735bc2bb3",
   "metadata": {},
   "outputs": [
    {
     "name": "stdout",
     "output_type": "stream",
     "text": [
      "10500.0\n",
      "11000.0\n"
     ]
    }
   ],
   "source": [
    "# Vamos criar uma classe sobre os empregados de uma empresa.\n",
    "class Empregado:\n",
    "    \n",
    "    # Todo ano, os empregados recebem um aumento de 5% sobre o seu salário\n",
    "    aumento = 1.05\n",
    "    @staticmethod\n",
    "    def _break_name(nome):\n",
    "        primeiro_nome, sobrenome = nome.split(' ')\n",
    "        return str.casefold(primeiro_nome), str.casefold(sobrenome)\n",
    "    \n",
    "    @staticmethod\n",
    "    def _create_email(nome):\n",
    "        primeiro_nome, sobrenome = Empregado._break_name(nome)\n",
    "        return f'{primeiro_nome}.{sobrenome}@company.com'\n",
    "    \n",
    "    def __init__(self, nome, salario):\n",
    "        self.nome = nome\n",
    "        self.email = Empregado._create_email(nome)\n",
    "        self.salario = float(salario)\n",
    "        \n",
    "    def aumentar_salario(self):\n",
    "        self.salario *= self.aumento\n",
    "    \n",
    "    @classmethod\n",
    "    def fromstring(cls, string):\n",
    "        nome, salario = string.split('-')\n",
    "        return cls(nome, salario)\n",
    "\n",
    "\n",
    "# Vamos criar uma classe para os desenvolvedores da companhia.\n",
    "class Desenvolvedor(Empregado):\n",
    "    # Vamos dizer que a taxa de aumento de um desenvolvedor seja de 10%\n",
    "    aumento = 1.1\n",
    "    \n",
    "\n",
    "# Criando dois funcionários com salários iguais, sendo Eduardo um funcionário comum e Felipe um Desenvolvedor,\n",
    "# vamos aplicar um aumento para ambos e ver quanto eles ganharão no final.\n",
    "eduardo = Empregado.fromstring('Eduardo Veiga-10000')\n",
    "felipe = Desenvolvedor.fromstring('Felipe Veiga-10000')\n",
    "\n",
    "eduardo.aumentar_salario()\n",
    "felipe.aumentar_salario()\n",
    "\n",
    "print(eduardo.salario)\n",
    "print(felipe.salario)\n",
    "\n"
   ]
  },
  {
   "cell_type": "markdown",
   "id": "4c336bd5-00c3-4463-9f1f-0a671077c729",
   "metadata": {},
   "source": [
    "<p style = 'font-size:30px'> <em>Novos atributos</em> </p>"
   ]
  },
  {
   "cell_type": "markdown",
   "id": "f2200ba2-5ef6-4a7d-8566-0b2c54f473a3",
   "metadata": {},
   "source": [
    "* <p style = 'font-size:20px'> Para uma classe-filha, podemos criar mais atributos do que aqueles designados à classe-mãe.</p>"
   ]
  },
  {
   "cell_type": "code",
   "execution_count": 55,
   "id": "23b9a9a4-27d6-49ad-9ed1-18c8571664a4",
   "metadata": {},
   "outputs": [
    {
     "name": "stdout",
     "output_type": "stream",
     "text": [
      "{'nome': 'Luis Daniel', 'email': 'luis.daniel@company.com', 'salario': 10000.0, 'ling_prog': 'Python'}\n"
     ]
    },
    {
     "ename": "TypeError",
     "evalue": "__init__() takes 3 positional arguments but 4 were given",
     "output_type": "error",
     "traceback": [
      "\u001b[0;31m---------------------------------------------------------------------------\u001b[0m",
      "\u001b[0;31mTypeError\u001b[0m                                 Traceback (most recent call last)",
      "\u001b[0;32m<ipython-input-55-39d84fafd734>\u001b[0m in \u001b[0;36m<module>\u001b[0;34m\u001b[0m\n\u001b[1;32m     48\u001b[0m \u001b[0;34m\u001b[0m\u001b[0m\n\u001b[1;32m     49\u001b[0m \u001b[0;31m# Agora, vamos tentar criar um funcionário ordinário informando, informando a sua linguagem favorita\u001b[0m\u001b[0;34m\u001b[0m\u001b[0;34m\u001b[0m\u001b[0;34m\u001b[0m\u001b[0m\n\u001b[0;32m---> 50\u001b[0;31m \u001b[0mdaniel\u001b[0m \u001b[0;34m=\u001b[0m \u001b[0mEmpregado\u001b[0m\u001b[0;34m(\u001b[0m\u001b[0;34m'Daniel Heleno'\u001b[0m\u001b[0;34m,\u001b[0m \u001b[0;36m20000\u001b[0m\u001b[0;34m,\u001b[0m \u001b[0;34m'Java'\u001b[0m\u001b[0;34m)\u001b[0m\u001b[0;34m\u001b[0m\u001b[0;34m\u001b[0m\u001b[0m\n\u001b[0m",
      "\u001b[0;31mTypeError\u001b[0m: __init__() takes 3 positional arguments but 4 were given"
     ]
    }
   ],
   "source": [
    "# Digamos que, para a subclasse Desenvolvedor, desejássemos criar um novo atributo que faça referência à linguagem \n",
    "# de programação principal do funcionário em questão.\n",
    "class Empregado:\n",
    "    \n",
    "    aumento = 1.05\n",
    "    @staticmethod\n",
    "    def _break_name(nome):\n",
    "        primeiro_nome, sobrenome = nome.split(' ')\n",
    "        return str.casefold(primeiro_nome), str.casefold(sobrenome)\n",
    "    \n",
    "    @staticmethod\n",
    "    def _create_email(nome):\n",
    "        primeiro_nome, sobrenome = Empregado._break_name(nome)\n",
    "        return f'{primeiro_nome}.{sobrenome}@company.com'\n",
    "    \n",
    "    def __init__(self, nome, salario):\n",
    "        self.nome = nome\n",
    "        self.email = Empregado._create_email(nome)\n",
    "        self.salario = float(salario)\n",
    "        \n",
    "    def aumentar_salario(self):\n",
    "        self.salario *= self.aumento\n",
    "    \n",
    "    @classmethod\n",
    "    def fromstring(cls, string):\n",
    "        nome, salario = string.split('-')\n",
    "        return cls(nome, salario)\n",
    "\n",
    "\n",
    "\n",
    "class Desenvolvedor(Empregado):\n",
    "    aumento = 1.1\n",
    "    \n",
    "    def __init__(self, nome, salario, ling_prog):\n",
    "        # Debaixo de __init__, poderíamos simplesmente informar os atributos, mas queremos criar \n",
    "        # algo mais conciso do que isso. Nessa ocasião, podemos utilizar o método super()\n",
    "        \n",
    "        # super() invocará o __init__ da classe mãe, instanciando todos os atributos que pertencem tanto a ela\n",
    "        # quanto à classe-filha.\n",
    "        super().__init__(nome, salario)\n",
    "        # Nesse sentido, precisamos apenas informar o atributo ling_prog (atributo que não pertence à classe-mãe)\n",
    "        self.ling_prog = ling_prog\n",
    "        \n",
    "    \n",
    "# Vamos criar um novo desenvolvedor\n",
    "luis = Desenvolvedor('Luis Daniel', 10000, 'Python')\n",
    "print(luis.__dict__)\n",
    "\n",
    "# Agora, vamos tentar criar um funcionário ordinário informando, informando a sua linguagem favorita.\n",
    "# Deu erro! Isso ocorreu pois ling_prog é um atributo exclusivo de Desenvolvedor\n",
    "daniel = Empregado('Daniel Heleno', 20000, 'Java')"
   ]
  },
  {
   "cell_type": "code",
   "execution_count": 13,
   "id": "72459c3e-f978-4d42-ac32-4ec2eba36202",
   "metadata": {},
   "outputs": [
    {
     "name": "stdout",
     "output_type": "stream",
     "text": [
      "Felipe Veiga\n",
      "Eduardo Veiga\n"
     ]
    }
   ],
   "source": [
    "# Vamos criar uma subclasse \"Gerente\"\n",
    "# Vamos aproveitá-la e criar alguns métodos exclusivos a ela.\n",
    "class Empregado:\n",
    "    \n",
    "    aumento = 1.05\n",
    "    @staticmethod\n",
    "    def _break_name(nome):\n",
    "        primeiro_nome, sobrenome = nome.split(' ')\n",
    "        return str.casefold(primeiro_nome), str.casefold(sobrenome)\n",
    "    \n",
    "    @staticmethod\n",
    "    def _create_email(nome):\n",
    "        primeiro_nome, sobrenome = Empregado._break_name(nome)\n",
    "        return f'{primeiro_nome}.{sobrenome}@company.com'\n",
    "    \n",
    "    def __init__(self, nome, salario):\n",
    "        self.nome = nome\n",
    "        self.email = Empregado._create_email(nome)\n",
    "        self.salario = float(salario)\n",
    "        \n",
    "    def aumentar_salario(self):\n",
    "        self.salario *= self.aumento\n",
    "    \n",
    "    @classmethod\n",
    "    def fromstring(cls, string):\n",
    "        nome, salario = string.split('-')\n",
    "        return cls(nome, salario)\n",
    "\n",
    "\n",
    "\n",
    "class Desenvolvedor(Empregado):\n",
    "    aumento = 1.1\n",
    "    \n",
    "    def __init__(self, nome, salario, ling_prog):        \n",
    "        super().__init__(nome, salario)\n",
    "        self.ling_prog = ling_prog\n",
    "\n",
    "# Por se encontrarem dentro de \"Gerente\", esses métodos não poderão ser utilizados pelas demais classes criadas.\n",
    "class Gerente(Empregado):\n",
    "    def __init__(self, nome, salario, area, subordinados = None):\n",
    "        super().__init__(nome, salario)\n",
    "        self.area = area\n",
    "        if subordinados is None:\n",
    "            self.subordinados = []\n",
    "        else:\n",
    "            self.subordinados = subordinados\n",
    "            \n",
    "    def adicionar_subordinado(self, subordinado):\n",
    "        if subordinado not in self.subordinados:\n",
    "            self.subordinados.append(subordinado)\n",
    "        else:\n",
    "            raise ValueError('O subordinado já está listado!')\n",
    "    \n",
    "    def remover_subordinado(self, subordinado):\n",
    "        if subordinado in self.subordinados:\n",
    "            self.subordinados.remove(subordinado)\n",
    "    \n",
    "    def mostrar_subordinados(self):\n",
    "        for subordinado in self.subordinados:\n",
    "            print(subordinado.nome)\n",
    "        \n",
    "Felipe = Desenvolvedor('Felipe Veiga', 50000, 'Python')\n",
    "Eduardo = Empregado('Eduardo Veiga', 30000)\n",
    "Roberto = Gerente('Roberto Veiga', 50000, 'Banco de Dados')\n",
    "Roberto.adicionar_subordinado(Felipe)\n",
    "Roberto.adicionar_subordinado(Eduardo)\n",
    "\n",
    "Roberto.mostrar_subordinados()"
   ]
  },
  {
   "cell_type": "markdown",
   "id": "27152408-0593-4706-a804-db00a8f8bec5",
   "metadata": {},
   "source": [
    "<p style = 'font-size:30px'> <em> isinstance, issubclass</em> </p>"
   ]
  },
  {
   "cell_type": "code",
   "execution_count": 17,
   "id": "319d893e-62b4-42ba-b311-cc0fe8821455",
   "metadata": {},
   "outputs": [
    {
     "name": "stdout",
     "output_type": "stream",
     "text": [
      "True\n",
      "True\n",
      "True\n"
     ]
    }
   ],
   "source": [
    "# isinstance identifica se um determinado parâmetro consiste em uma instância da classe informada.\n",
    "print(isinstance(Felipe, Desenvolvedor))\n",
    "\n",
    "# 'Felipe' é tido também como uma instância da classe-mãe 'Empregado'\n",
    "print(isinstance(Felipe, Empregado))\n",
    "\n",
    "# issubclass verifica se uma classe é subclasse de uma outra\n",
    "print(issubclass(Desenvolvedor, Empregado))"
   ]
  }
 ],
 "metadata": {
  "kernelspec": {
   "display_name": "Python 3",
   "language": "python",
   "name": "python3"
  },
  "language_info": {
   "codemirror_mode": {
    "name": "ipython",
    "version": 3
   },
   "file_extension": ".py",
   "mimetype": "text/x-python",
   "name": "python",
   "nbconvert_exporter": "python",
   "pygments_lexer": "ipython3",
   "version": "3.8.8"
  }
 },
 "nbformat": 4,
 "nbformat_minor": 5
}
