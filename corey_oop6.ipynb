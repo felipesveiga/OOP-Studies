{
 "cells": [
  {
   "cell_type": "markdown",
   "id": "c3ebf6ba-2889-4bb1-bd68-5bbfc9f586cf",
   "metadata": {},
   "source": [
    "<a style = 'font-size:50px' href = 'https://www.youtube.com/watch?v=jCzT9XFZ5bw&list=PL-osiE80TeTsqhIuOqKhwlXsIBIdSeYtc&index=6'> <strong> Aula 6</strong> </a>"
   ]
  },
  {
   "cell_type": "markdown",
   "id": "f4d43156-337c-4b88-91b0-d3d7e228d95e",
   "metadata": {},
   "source": [
    "<p style = 'font-size:40px'> <strong>Property Decorators - Getters, Setters, and Deleters</strong></p>"
   ]
  },
  {
   "cell_type": "markdown",
   "id": "7e627359-8671-4057-91fe-dc36b6a4b3ba",
   "metadata": {},
   "source": [
    "* <p style = 'font-size:20px'> Os property decorators fazem com que nós acessemos atributos de uma instância como um método!</p>\n",
    "* <p style = 'font-size:20px'> Vamos para um exemplo.</p>"
   ]
  },
  {
   "cell_type": "code",
   "execution_count": 4,
   "id": "5259a9f2-dded-41f5-a024-93dc40d387c1",
   "metadata": {},
   "outputs": [
    {
     "data": {
      "text/plain": [
       "'felipe.veiga@company.com'"
      ]
     },
     "execution_count": 4,
     "metadata": {},
     "output_type": "execute_result"
    }
   ],
   "source": [
    "# Vamos pegar a nossa classe 'Empregado' novamente, com algumas alterações\n",
    "\n",
    "\n",
    "class Empregado:\n",
    "    \n",
    "    aumento = 1.05\n",
    "    @staticmethod\n",
    "    def _break_name(nome):\n",
    "        primeiro_nome, sobrenome = nome.split(' ')\n",
    "        return str.casefold(primeiro_nome), str.casefold(sobrenome)\n",
    "    \n",
    "    @staticmethod\n",
    "    def _create_email(nome):\n",
    "        primeiro_nome, sobrenome = Empregado._break_name(nome)\n",
    "        return f'{primeiro_nome}.{sobrenome}@company.com'\n",
    "    \n",
    "    def __init__(self, nome, salario):\n",
    "        self.nome = nome\n",
    "        self.email = Empregado._create_email(nome)\n",
    "        self.salario = float(salario)\n",
    "\n",
    "# Vamos nos colocar na seguinte situação: criamos um empregado cujo nome é 'Felipe Veiga'\n",
    "# No entanto, esse nome está errado: o nome dele é 'Eduardo Veiga'\n",
    "Empregado1 = Empregado('Felipe Veiga', 50000)\n",
    "\n",
    "# Poderíamos arrumar esse problema simplesmente designando um novo valor a 'Empregado1.nome'\n",
    "Empregado1.nome = 'Eduardo Veiga'\n",
    "\n",
    "# No entanto, devemos nos lembrar que a variável 'Empregado.email' é dependente de 'Empregado.nome'\n",
    "# Afinal, será que o email também é alterado para 'eduardo.veiga@company.com'?\n",
    "\n",
    "# Não! Temos um problema diante de nós.\n",
    "print(Empregado1.email)"
   ]
  },
  {
   "cell_type": "markdown",
   "id": "571982e5-8f54-43d0-9568-ff314352fd7b",
   "metadata": {},
   "source": [
    "<p style = 'font-size:25px;color:orange'> Refazer algumas partes da classe, ao invés de informar o nome completo do usuário, exija que sejam escritos o primeiro nome e sobrenome do funcionário</p>"
   ]
  },
  {
   "cell_type": "markdown",
   "id": "2e703b1f-c258-4832-8284-42756570492b",
   "metadata": {},
   "source": [
    "<p style = 'font-size:25px;color:orange'> Começar do começo da aula..</p>"
   ]
  }
 ],
 "metadata": {
  "kernelspec": {
   "display_name": "Python 3",
   "language": "python",
   "name": "python3"
  },
  "language_info": {
   "codemirror_mode": {
    "name": "ipython",
    "version": 3
   },
   "file_extension": ".py",
   "mimetype": "text/x-python",
   "name": "python",
   "nbconvert_exporter": "python",
   "pygments_lexer": "ipython3",
   "version": "3.8.8"
  }
 },
 "nbformat": 4,
 "nbformat_minor": 5
}
