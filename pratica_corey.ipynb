{
 "cells": [
  {
   "cell_type": "code",
   "execution_count": 5,
   "id": "7e2feec5-a115-404f-9860-6070730f995f",
   "metadata": {},
   "outputs": [
    {
     "data": {
      "text/plain": [
       "{'marca': 'Samsung', 'polegadas': '55', 'preco': '1290'}"
      ]
     },
     "execution_count": 5,
     "metadata": {},
     "output_type": "execute_result"
    }
   ],
   "source": [
    "class TV:\n",
    "    def __init__(self, marca, polegadas, preco):\n",
    "        self.marca = marca\n",
    "        self.polegadas = polegadas\n",
    "        self.preco = preco\n",
    "        \n",
    "    @classmethod\n",
    "    def fromstring(cls, string):\n",
    "        marca, polegadas, preco = string.split('-')\n",
    "        return cls(marca, polegadas, preco)\n",
    "    \n",
    "samsung = TV.fromstring('Samsung-55-1290')\n",
    "samsung.__dict__"
   ]
  }
 ],
 "metadata": {
  "kernelspec": {
   "display_name": "Python 3",
   "language": "python",
   "name": "python3"
  },
  "language_info": {
   "codemirror_mode": {
    "name": "ipython",
    "version": 3
   },
   "file_extension": ".py",
   "mimetype": "text/x-python",
   "name": "python",
   "nbconvert_exporter": "python",
   "pygments_lexer": "ipython3",
   "version": "3.8.8"
  }
 },
 "nbformat": 4,
 "nbformat_minor": 5
}
